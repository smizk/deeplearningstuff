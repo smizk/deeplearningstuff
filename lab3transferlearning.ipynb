{
  "nbformat": 4,
  "nbformat_minor": 0,
  "metadata": {
    "accelerator": "GPU",
    "colab": {
      "name": "lab3transferlearning.ipynb",
      "provenance": [],
      "collapsed_sections": [],
      "authorship_tag": "ABX9TyMV7nco8gey/ndjSOpXFbn3",
      "include_colab_link": true
    },
    "kernelspec": {
      "display_name": "Python 3",
      "name": "python3"
    },
    "language_info": {
      "name": "python"
    }
  },
  "cells": [
    {
      "cell_type": "markdown",
      "metadata": {
        "id": "view-in-github",
        "colab_type": "text"
      },
      "source": [
        "<a href=\"https://colab.research.google.com/github/smizk/deeplearningstuff/blob/main/lab3transferlearning.ipynb\" target=\"_parent\"><img src=\"https://colab.research.google.com/assets/colab-badge.svg\" alt=\"Open In Colab\"/></a>"
      ]
    },
    {
      "cell_type": "code",
      "metadata": {
        "id": "8kLynNtqNQ93"
      },
      "source": [
        "#=======================================================================\n",
        "# File Name : lab3transferlearning.ipynb\n",
        "#=======================================================================\n",
        "#\n",
        "# $Auther:  ante0107\n",
        "# $Date:    24-04-2021 \n",
        "\n",
        "import tensorflow as tf\n",
        "import numpy as np"
      ],
      "execution_count": 1,
      "outputs": []
    },
    {
      "cell_type": "code",
      "metadata": {
        "colab": {
          "base_uri": "https://localhost:8080/"
        },
        "id": "NSLIS1QnOK9U",
        "outputId": "8501ab84-8092-4341-f696-fdfc56ea9b12"
      },
      "source": [
        "# Data handle\n",
        "(x_train, y_train), (x_test, y_test) = tf.keras.datasets.fashion_mnist.load_data()\n",
        "num_classes = 10 # 10 types of clothing in the dataset\n",
        "input_shape = (28, 28, 1)\n",
        "ps = 72 # pixel size\n",
        "\n",
        "from sklearn.model_selection import train_test_split\n",
        "x_train, x_val, y_train, y_val = train_test_split(x_train, y_train, test_size = 0.1, random_state = 2)\n",
        "\n",
        "print(\"train_images shape:\", x_train.shape, 'type: ', type(x_train))\n",
        "print(\"vali_images shape:\", x_val.shape, 'type: ', type(x_val))\n",
        "print(\"test_images shape:\", x_test.shape, 'type: ', type(x_test))"
      ],
      "execution_count": 2,
      "outputs": [
        {
          "output_type": "stream",
          "text": [
            "Downloading data from https://storage.googleapis.com/tensorflow/tf-keras-datasets/train-labels-idx1-ubyte.gz\n",
            "32768/29515 [=================================] - 0s 0us/step\n",
            "Downloading data from https://storage.googleapis.com/tensorflow/tf-keras-datasets/train-images-idx3-ubyte.gz\n",
            "26427392/26421880 [==============================] - 1s 0us/step\n",
            "Downloading data from https://storage.googleapis.com/tensorflow/tf-keras-datasets/t10k-labels-idx1-ubyte.gz\n",
            "8192/5148 [===============================================] - 0s 0us/step\n",
            "Downloading data from https://storage.googleapis.com/tensorflow/tf-keras-datasets/t10k-images-idx3-ubyte.gz\n",
            "4423680/4422102 [==============================] - 0s 0us/step\n",
            "train_images shape: (54000, 28, 28) type:  <class 'numpy.ndarray'>\n",
            "vali_images shape: (6000, 28, 28) type:  <class 'numpy.ndarray'>\n",
            "test_images shape: (10000, 28, 28) type:  <class 'numpy.ndarray'>\n"
          ],
          "name": "stdout"
        }
      ]
    },
    {
      "cell_type": "code",
      "metadata": {
        "colab": {
          "base_uri": "https://localhost:8080/",
          "height": 186
        },
        "id": "VOI7Bz6tsd3l",
        "outputId": "2832d17b-ead0-430a-ca32-d0e702dd8017"
      },
      "source": [
        "import matplotlib.pyplot as plt\n",
        "\n",
        "tmp = x_train[0] # plot example\n",
        "\n",
        "fig, axs = plt.subplots(1,3) \n",
        "axs[0].imshow(tmp, cmap=plt.cm.binary)\n",
        "# convert image to rgb, i.e. 3 channels\n",
        "tmp = tf.image.grayscale_to_rgb(tf.convert_to_tensor(np.expand_dims(tmp, -1)))\n",
        "axs[1].imshow(tmp)\n",
        "tmp = tf.keras.utils.normalize(tmp, axis=1) # normalize from the [0, 255] pixel values\n",
        "axs[2].imshow(tmp)"
      ],
      "execution_count": 3,
      "outputs": [
        {
          "output_type": "stream",
          "text": [
            "Clipping input data to the valid range for imshow with RGB data ([0..1] for floats or [0..255] for integers).\n"
          ],
          "name": "stderr"
        },
        {
          "output_type": "execute_result",
          "data": {
            "text/plain": [
              "<matplotlib.image.AxesImage at 0x7f9e72d64e90>"
            ]
          },
          "metadata": {
            "tags": []
          },
          "execution_count": 3
        },
        {
          "output_type": "display_data",
          "data": {
            "image/png": "[encoded data removed]",
            "text/plain": [
              "<Figure size 432x288 with 3 Axes>"
            ]
          },
          "metadata": {
            "tags": [],
            "needs_background": "light"
          }
        }
      ]
    },
    {
      "cell_type": "code",
      "metadata": {
        "colab": {
          "base_uri": "https://localhost:8080/",
          "height": 318
        },
        "id": "Ne91Zh_ieAJX",
        "outputId": "ddf627f8-0520-4bf7-84ad-dc0bb741735c"
      },
      "source": [
        "tmp = tf.image.resize_with_pad(tmp, ps, ps, antialias=False) # Resize \n",
        "plt.imshow(tmp)\n",
        "plt.title('New input image')"
      ],
      "execution_count": 4,
      "outputs": [
        {
          "output_type": "stream",
          "text": [
            "Clipping input data to the valid range for imshow with RGB data ([0..1] for floats or [0..255] for integers).\n"
          ],
          "name": "stderr"
        },
        {
          "output_type": "execute_result",
          "data": {
            "text/plain": [
              "Text(0.5, 1.0, 'New input image')"
            ]
          },
          "metadata": {
            "tags": []
          },
          "execution_count": 4
        },
        {
          "output_type": "display_data",
          "data": {
            "image/png": "[encoded data removed]",
            "text/plain": [
              "<Figure size 432x288 with 1 Axes>"
            ]
          },
          "metadata": {
            "tags": [],
            "needs_background": "light"
          }
        }
      ]
    },
    {
      "cell_type": "code",
      "metadata": {
        "id": "Msa4Ypork6Zy"
      },
      "source": [
        "def reshape_data(data):\n",
        "  data = data.reshape(data.shape[0], 28, 28, 1)\n",
        "  data = tf.image.grayscale_to_rgb(tf.convert_to_tensor(data))\n",
        "  data = tf.keras.utils.normalize(data, axis=1)\n",
        "  data = tf.image.resize_with_pad(data, ps, ps, antialias=False)\n",
        "  return data"
      ],
      "execution_count": 5,
      "outputs": []
    },
    {
      "cell_type": "code",
      "metadata": {
        "colab": {
          "base_uri": "https://localhost:8080/"
        },
        "id": "cjGwHSrIshZz",
        "outputId": "e0865cb5-d485-4746-8851-becd930d41f5"
      },
      "source": [
        "# Normalize the images.\n",
        "x_train = reshape_data(x_train)\n",
        "x_val = reshape_data(x_val)\n",
        "x_test = reshape_data(x_test)\n",
        "print(\"train_images shape:\", x_train.shape, 'type: ', type(x_train))\n",
        "print(\"vali_images shape:\", x_val.shape, 'type: ', type(x_val))\n",
        "print(\"test_images shape:\", x_test.shape, 'type: ', type(x_test))\n",
        "\n",
        "# convert class vectors to binary class matrice, this is because we use loss function \"categorical_crossentropy\"\n",
        "y_train = tf.keras.utils.to_categorical(y_train, num_classes)\n",
        "y_val = tf.keras.utils.to_categorical(y_val, num_classes)\n",
        "y_test = tf.keras.utils.to_categorical(y_test, num_classes)"
      ],
      "execution_count": 6,
      "outputs": [
        {
          "output_type": "stream",
          "text": [
            "train_images shape: (54000, 72, 72, 3) type:  <class 'tensorflow.python.framework.ops.EagerTensor'>\n",
            "vali_images shape: (6000, 72, 72, 3) type:  <class 'tensorflow.python.framework.ops.EagerTensor'>\n",
            "test_images shape: (10000, 72, 72, 3) type:  <class 'tensorflow.python.framework.ops.EagerTensor'>\n"
          ],
          "name": "stdout"
        }
      ]
    },
    {
      "cell_type": "code",
      "metadata": {
        "colab": {
          "base_uri": "https://localhost:8080/"
        },
        "id": "h92zuprDspXM",
        "outputId": "d026a4dd-9217-4208-dfa2-a4b9b3880c69"
      },
      "source": [
        "# Creating the model, source: https://sodocumentation.net/keras/topic/10887/transfer-learning-and-fine-tuning-using-keras\n",
        "input_shape = (ps, ps, 3) # new input shape\n",
        " \n",
        "vgg_model = tf.keras.applications.VGG16(weights='imagenet',\n",
        "                               include_top=False,\n",
        "                               input_shape=input_shape)\n",
        "vgg_model.summary()\n",
        "# Creating dictionary that maps layer names to the layers\n",
        "layer_dict = dict([(layer.name, layer) for layer in vgg_model.layers])\n",
        "\n",
        "print(layer_dict.keys())"
      ],
      "execution_count": 7,
      "outputs": [
        {
          "output_type": "stream",
          "text": [
            "Downloading data from https://storage.googleapis.com/tensorflow/keras-applications/vgg16/vgg16_weights_tf_dim_ordering_tf_kernels_notop.h5\n",
            "58892288/58889256 [==============================] - 0s 0us/step\n",
            "Model: \"vgg16\"\n",
            "_________________________________________________________________\n",
            "Layer (type)                 Output Shape              Param #   \n",
            "=================================================================\n",
            "input_1 (InputLayer)         [(None, 72, 72, 3)]       0         \n",
            "_________________________________________________________________\n",
            "block1_conv1 (Conv2D)        (None, 72, 72, 64)        1792      \n",
            "_________________________________________________________________\n",
            "block1_conv2 (Conv2D)        (None, 72, 72, 64)        36928     \n",
            "_________________________________________________________________\n",
            "block1_pool (MaxPooling2D)   (None, 36, 36, 64)        0         \n",
            "_________________________________________________________________\n",
            "block2_conv1 (Conv2D)        (None, 36, 36, 128)       73856     \n",
            "_________________________________________________________________\n",
            "block2_conv2 (Conv2D)        (None, 36, 36, 128)       147584    \n",
            "_________________________________________________________________\n",
            "block2_pool (MaxPooling2D)   (None, 18, 18, 128)       0         \n",
            "_________________________________________________________________\n",
            "block3_conv1 (Conv2D)        (None, 18, 18, 256)       295168    \n",
            "_________________________________________________________________\n",
            "block3_conv2 (Conv2D)        (None, 18, 18, 256)       590080    \n",
            "_________________________________________________________________\n",
            "block3_conv3 (Conv2D)        (None, 18, 18, 256)       590080    \n",
            "_________________________________________________________________\n",
            "block3_pool (MaxPooling2D)   (None, 9, 9, 256)         0         \n",
            "_________________________________________________________________\n",
            "block4_conv1 (Conv2D)        (None, 9, 9, 512)         1180160   \n",
            "_________________________________________________________________\n",
            "block4_conv2 (Conv2D)        (None, 9, 9, 512)         2359808   \n",
            "_________________________________________________________________\n",
            "block4_conv3 (Conv2D)        (None, 9, 9, 512)         2359808   \n",
            "_________________________________________________________________\n",
            "block4_pool (MaxPooling2D)   (None, 4, 4, 512)         0         \n",
            "_________________________________________________________________\n",
            "block5_conv1 (Conv2D)        (None, 4, 4, 512)         2359808   \n",
            "_________________________________________________________________\n",
            "block5_conv2 (Conv2D)        (None, 4, 4, 512)         2359808   \n",
            "_________________________________________________________________\n",
            "block5_conv3 (Conv2D)        (None, 4, 4, 512)         2359808   \n",
            "_________________________________________________________________\n",
            "block5_pool (MaxPooling2D)   (None, 2, 2, 512)         0         \n",
            "=================================================================\n",
            "Total params: 14,714,688\n",
            "Trainable params: 14,714,688\n",
            "Non-trainable params: 0\n",
            "_________________________________________________________________\n",
            "dict_keys(['input_1', 'block1_conv1', 'block1_conv2', 'block1_pool', 'block2_conv1', 'block2_conv2', 'block2_pool', 'block3_conv1', 'block3_conv2', 'block3_conv3', 'block3_pool', 'block4_conv1', 'block4_conv2', 'block4_conv3', 'block4_pool', 'block5_conv1', 'block5_conv2', 'block5_conv3', 'block5_pool'])\n"
          ],
          "name": "stdout"
        }
      ]
    },
    {
      "cell_type": "code",
      "metadata": {
        "id": "rthI3tztOTci"
      },
      "source": [
        "# first \n",
        "# # Getting output tensor of the last VGG layer that we want to include\n",
        "# x = layer_dict['block3_pool'].output # lets start from block 3\n",
        "\n",
        "# # Stacking a new simple convolutional network on top of it\n",
        "# x = tf.keras.layers.BatchNormalization(scale=False, axis=3)(x) # regularization method\n",
        "# x = tf.keras.layers.Conv2D(filters=64, kernel_size=(3, 3), activation='relu')(x)\n",
        "# x = tf.keras.layers.MaxPooling2D(pool_size=(2, 2))(x)\n",
        "# x = tf.keras.layers.Flatten()(x)\n",
        "# x = tf.keras.layers.Dense(256, activation='relu')(x)\n",
        "# x = tf.keras.layers.Dense(num_classes, activation='softmax')(x)\n",
        "\n",
        "# see below"
      ],
      "execution_count": 8,
      "outputs": []
    },
    {
      "cell_type": "code",
      "metadata": {
        "id": "FCfp-AK3NQK-"
      },
      "source": [
        "# Getting output tensor of the last VGG layer that we want to include\n",
        "x = layer_dict['block1_pool'].output # lets start from block 2\n",
        "# Stacking a new simple convolutional network on top of it\n",
        "# x = tf.keras.layers.Conv2D(filters=128, kernel_size=(3, 3), padding='same', activation='relu')(x)\n",
        "# x = tf.keras.layers.MaxPooling2D(pool_size=(2, 2))(x)\n",
        "x = tf.keras.layers.BatchNormalization(scale=False, axis=3)(x) # regularization method\n",
        "# #x = tf.keras.layers.Dropout(0.25)(x)\n",
        "x = tf.keras.layers.Conv2D(filters=128, kernel_size=(3, 3), padding='same', activation='relu')(x)\n",
        "x = tf.keras.layers.Conv2D(filters=128, kernel_size=(3, 3), padding='same', activation='relu')(x)\n",
        "#x = tf.keras.layers.Conv2D(filters=128, kernel_size=(3, 3), activation='relu')(x)\n",
        "x = tf.keras.layers.MaxPooling2D(pool_size=(2, 2))(x)\n",
        "x = tf.keras.layers.Conv2D(filters=64, kernel_size=(3, 3), padding='same', activation='relu')(x)\n",
        "x = tf.keras.layers.MaxPooling2D(pool_size=(2, 2))(x)\n",
        "x = tf.keras.layers.Dropout(0.25)(x)\n",
        "x = tf.keras.layers.Conv2D(filters=32, kernel_size=(3, 3), padding='same', activation='relu')(x)\n",
        "# x = tf.keras.layers.MaxPooling2D(pool_size=(2, 2))(x)\n",
        "# x = tf.keras.layers.Dropout(0.25)(x)\n",
        "# x = tf.keras.layers.Conv2D(filters=16, kernel_size=(3, 3), padding='same', activation='relu')(x)\n",
        "# x = tf.keras.layers.MaxPooling2D(pool_size=(2, 2))(x)\n",
        "#x = tf.keras.layers.Conv2D(filters=1024, kernel_size=(3, 3), padding='same', activation='relu')(x)\n",
        "#x = tf.keras.layers.MaxPooling2D(pool_size=(2, 2))(x)\n",
        "# x = tf.keras.layers.Conv2D(filters=1024, kernel_size=(3, 3), activation='relu')(x)\n",
        "# x = tf.keras.layers.MaxPooling2D(pool_size=(2, 2))(x)\n",
        "#x = tf.keras.layers.Dropout(0.4)(x)\n",
        "x = tf.keras.layers.Flatten()(x)\n",
        "x = tf.keras.layers.Dense(100, activation='relu')(x)\n",
        "x = tf.keras.layers.Dropout(0.3)(x)\n",
        "x = tf.keras.layers.Dense(num_classes, activation='softmax')(x)"
      ],
      "execution_count": 9,
      "outputs": []
    },
    {
      "cell_type": "code",
      "metadata": {
        "colab": {
          "base_uri": "https://localhost:8080/"
        },
        "id": "HysXOSwAlwwS",
        "outputId": "e3a8bf12-c422-407e-b98f-f4f0ca262698"
      },
      "source": [
        "# Creating new model.\n",
        "model = tf.keras.models.Model(inputs=vgg_model.input, outputs=x, name='Beritbrutal')\n",
        "\n",
        "# Make sure that the pre-trained bottom layers are not trainable\n",
        "for layer in model.layers[:4]:\n",
        "    layer.trainable = False\n",
        "\n",
        "#opt = tf.keras.optimizers.Adam(learning_rate=0.005)\n",
        "# Do not forget to compile it\n",
        "model.compile(loss='categorical_crossentropy', \n",
        "              optimizer='Adam', \n",
        "              metrics=['accuracy'])\n",
        "\n",
        "model.summary()"
      ],
      "execution_count": 10,
      "outputs": [
        {
          "output_type": "stream",
          "text": [
            "Model: \"Beritbrutal\"\n",
            "_________________________________________________________________\n",
            "Layer (type)                 Output Shape              Param #   \n",
            "=================================================================\n",
            "input_1 (InputLayer)         [(None, 72, 72, 3)]       0         \n",
            "_________________________________________________________________\n",
            "block1_conv1 (Conv2D)        (None, 72, 72, 64)        1792      \n",
            "_________________________________________________________________\n",
            "block1_conv2 (Conv2D)        (None, 72, 72, 64)        36928     \n",
            "_________________________________________________________________\n",
            "block1_pool (MaxPooling2D)   (None, 36, 36, 64)        0         \n",
            "_________________________________________________________________\n",
            "batch_normalization (BatchNo (None, 36, 36, 64)        192       \n",
            "_________________________________________________________________\n",
            "conv2d (Conv2D)              (None, 36, 36, 128)       73856     \n",
            "_________________________________________________________________\n",
            "conv2d_1 (Conv2D)            (None, 36, 36, 128)       147584    \n",
            "_________________________________________________________________\n",
            "max_pooling2d (MaxPooling2D) (None, 18, 18, 128)       0         \n",
            "_________________________________________________________________\n",
            "conv2d_2 (Conv2D)            (None, 18, 18, 64)        73792     \n",
            "_________________________________________________________________\n",
            "max_pooling2d_1 (MaxPooling2 (None, 9, 9, 64)          0         \n",
            "_________________________________________________________________\n",
            "dropout (Dropout)            (None, 9, 9, 64)          0         \n",
            "_________________________________________________________________\n",
            "conv2d_3 (Conv2D)            (None, 9, 9, 32)          18464     \n",
            "_________________________________________________________________\n",
            "flatten (Flatten)            (None, 2592)              0         \n",
            "_________________________________________________________________\n",
            "dense (Dense)                (None, 100)               259300    \n",
            "_________________________________________________________________\n",
            "dropout_1 (Dropout)          (None, 100)               0         \n",
            "_________________________________________________________________\n",
            "dense_1 (Dense)              (None, 10)                1010      \n",
            "=================================================================\n",
            "Total params: 612,918\n",
            "Trainable params: 574,070\n",
            "Non-trainable params: 38,848\n",
            "_________________________________________________________________\n"
          ],
          "name": "stdout"
        }
      ]
    },
    {
      "cell_type": "code",
      "metadata": {
        "colab": {
          "base_uri": "https://localhost:8080/"
        },
        "id": "mJDL4cyypdn7",
        "outputId": "c2d7437c-9f1b-4a59-9317-3700039ac653"
      },
      "source": [
        "# Lets train the model\n",
        "# create callbacks\n",
        "# callbacks = [ \n",
        "#   tf.keras.callbacks.ModelCheckpoint('best_model', monitor='val_accuracy', verbose=1, save_best_only=True),\n",
        "#   tf.keras.callbacks.ReduceLROnPlateau( factor = 0.1, patience = 3, min_lr = 0.00001, verbose = 1 )\n",
        "#]  \n",
        "\n",
        "epochs = 20 \n",
        "batch_size = 100\n",
        "hist = model.fit(x_train, y_train, \n",
        "                 epochs=epochs,\n",
        "                 batch_size=batch_size,\n",
        "                 validation_data=(x_val, y_val))"
      ],
      "execution_count": 11,
      "outputs": [
        {
          "output_type": "stream",
          "text": [
            "Epoch 1/20\n",
            "540/540 [==============================] - 47s 30ms/step - loss: 2.3027 - accuracy: 0.0997 - val_loss: 2.3026 - val_accuracy: 0.1003\n",
            "Epoch 2/20\n",
            "540/540 [==============================] - 16s 29ms/step - loss: 2.3026 - accuracy: 0.1009 - val_loss: 2.3028 - val_accuracy: 0.1022\n",
            "Epoch 3/20\n",
            "540/540 [==============================] - 16s 29ms/step - loss: 2.3027 - accuracy: 0.1004 - val_loss: 2.3026 - val_accuracy: 0.0978\n",
            "Epoch 4/20\n",
            "540/540 [==============================] - 16s 29ms/step - loss: 2.3027 - accuracy: 0.0988 - val_loss: 2.3028 - val_accuracy: 0.0978\n",
            "Epoch 5/20\n",
            "540/540 [==============================] - 16s 29ms/step - loss: 2.3027 - accuracy: 0.0978 - val_loss: 2.3027 - val_accuracy: 0.0945\n",
            "Epoch 6/20\n",
            "540/540 [==============================] - 16s 29ms/step - loss: 2.3027 - accuracy: 0.0975 - val_loss: 2.3028 - val_accuracy: 0.0947\n",
            "Epoch 7/20\n",
            "540/540 [==============================] - 16s 29ms/step - loss: 2.3026 - accuracy: 0.1023 - val_loss: 2.3028 - val_accuracy: 0.0947\n",
            "Epoch 8/20\n",
            "540/540 [==============================] - 16s 29ms/step - loss: 2.3027 - accuracy: 0.0980 - val_loss: 2.3028 - val_accuracy: 0.0947\n",
            "Epoch 9/20\n",
            "540/540 [==============================] - 16s 29ms/step - loss: 2.3026 - accuracy: 0.0984 - val_loss: 2.3028 - val_accuracy: 0.0947\n",
            "Epoch 10/20\n",
            "540/540 [==============================] - 16s 29ms/step - loss: 2.3027 - accuracy: 0.0994 - val_loss: 2.3029 - val_accuracy: 0.0977\n",
            "Epoch 11/20\n",
            "540/540 [==============================] - 16s 29ms/step - loss: 2.3027 - accuracy: 0.1008 - val_loss: 2.3027 - val_accuracy: 0.0978\n",
            "Epoch 12/20\n",
            "540/540 [==============================] - 16s 29ms/step - loss: 2.3027 - accuracy: 0.0970 - val_loss: 2.3027 - val_accuracy: 0.0945\n",
            "Epoch 13/20\n",
            "540/540 [==============================] - 16s 29ms/step - loss: 2.3027 - accuracy: 0.1002 - val_loss: 2.3028 - val_accuracy: 0.0947\n",
            "Epoch 14/20\n",
            "540/540 [==============================] - 16s 29ms/step - loss: 2.3026 - accuracy: 0.1024 - val_loss: 2.3027 - val_accuracy: 0.0947\n",
            "Epoch 15/20\n",
            "540/540 [==============================] - 16s 29ms/step - loss: 2.3027 - accuracy: 0.1002 - val_loss: 2.3027 - val_accuracy: 0.0978\n",
            "Epoch 16/20\n",
            "540/540 [==============================] - 16s 29ms/step - loss: 2.3027 - accuracy: 0.0990 - val_loss: 2.3028 - val_accuracy: 0.0947\n",
            "Epoch 17/20\n",
            "540/540 [==============================] - 16s 29ms/step - loss: 2.3026 - accuracy: 0.1017 - val_loss: 2.3027 - val_accuracy: 0.0978\n",
            "Epoch 18/20\n",
            "540/540 [==============================] - 16s 29ms/step - loss: 2.3027 - accuracy: 0.0979 - val_loss: 2.3026 - val_accuracy: 0.0947\n",
            "Epoch 19/20\n",
            "540/540 [==============================] - 16s 29ms/step - loss: 2.3027 - accuracy: 0.1002 - val_loss: 2.3028 - val_accuracy: 0.0947\n",
            "Epoch 20/20\n",
            "540/540 [==============================] - 16s 29ms/step - loss: 2.3026 - accuracy: 0.0994 - val_loss: 2.3027 - val_accuracy: 0.0947\n"
          ],
          "name": "stdout"
        }
      ]
    },
    {
      "cell_type": "code",
      "metadata": {
        "id": "s-2UmV5gp6F8",
        "colab": {
          "base_uri": "https://localhost:8080/"
        },
        "outputId": "4c579ac7-14fe-4c6e-9228-3ac0b5627018"
      },
      "source": [
        "score = model.evaluate(x_test, y_test)\n",
        "print(\"Test loss:\", score[0])\n",
        "print(\"Test accuracy:\", score[1])"
      ],
      "execution_count": 12,
      "outputs": [
        {
          "output_type": "stream",
          "text": [
            "313/313 [==============================] - 2s 7ms/step - loss: 2.3026 - accuracy: 0.1000\n",
            "Test loss: 2.302605390548706\n",
            "Test accuracy: 0.10000000149011612\n"
          ],
          "name": "stdout"
        }
      ]
    },
    {
      "cell_type": "code",
      "metadata": {
        "id": "7d0Q8_uuAxIS",
        "colab": {
          "base_uri": "https://localhost:8080/"
        },
        "outputId": "c168e739-e282-4e28-b0f6-f85021eeff8d"
      },
      "source": [
        "model.fit(x_train, y_train, \n",
        "                 epochs=epochs,\n",
        "                 batch_size=batch_size,\n",
        "                 validation_data=(x_val, y_val))"
      ],
      "execution_count": 13,
      "outputs": [
        {
          "output_type": "stream",
          "text": [
            "Epoch 1/20\n",
            "540/540 [==============================] - 16s 29ms/step - loss: 2.3027 - accuracy: 0.1000 - val_loss: 2.3028 - val_accuracy: 0.0977\n",
            "Epoch 2/20\n",
            "540/540 [==============================] - 16s 29ms/step - loss: 2.3027 - accuracy: 0.0981 - val_loss: 2.3028 - val_accuracy: 0.0947\n",
            "Epoch 3/20\n",
            "540/540 [==============================] - 16s 29ms/step - loss: 2.3027 - accuracy: 0.0984 - val_loss: 2.3027 - val_accuracy: 0.0945\n",
            "Epoch 4/20\n",
            "540/540 [==============================] - 16s 29ms/step - loss: 2.3027 - accuracy: 0.0985 - val_loss: 2.3028 - val_accuracy: 0.0978\n",
            "Epoch 5/20\n",
            "540/540 [==============================] - 16s 29ms/step - loss: 2.3027 - accuracy: 0.0988 - val_loss: 2.3027 - val_accuracy: 0.0978\n",
            "Epoch 6/20\n",
            "540/540 [==============================] - 16s 29ms/step - loss: 2.3027 - accuracy: 0.1001 - val_loss: 2.3027 - val_accuracy: 0.0945\n",
            "Epoch 7/20\n",
            "540/540 [==============================] - 16s 29ms/step - loss: 2.3027 - accuracy: 0.0975 - val_loss: 2.3027 - val_accuracy: 0.0977\n",
            "Epoch 8/20\n",
            "540/540 [==============================] - 16s 29ms/step - loss: 2.3027 - accuracy: 0.0965 - val_loss: 2.3027 - val_accuracy: 0.0977\n",
            "Epoch 9/20\n",
            "540/540 [==============================] - 16s 29ms/step - loss: 2.3027 - accuracy: 0.0978 - val_loss: 2.3029 - val_accuracy: 0.0977\n",
            "Epoch 10/20\n",
            "540/540 [==============================] - 16s 29ms/step - loss: 2.3027 - accuracy: 0.0988 - val_loss: 2.3026 - val_accuracy: 0.1003\n",
            "Epoch 11/20\n",
            "540/540 [==============================] - 16s 29ms/step - loss: 2.3027 - accuracy: 0.0984 - val_loss: 2.3026 - val_accuracy: 0.1003\n",
            "Epoch 12/20\n",
            "540/540 [==============================] - 16s 29ms/step - loss: 2.3027 - accuracy: 0.0984 - val_loss: 2.3027 - val_accuracy: 0.1003\n",
            "Epoch 13/20\n",
            "540/540 [==============================] - 16s 29ms/step - loss: 2.3027 - accuracy: 0.0971 - val_loss: 2.3027 - val_accuracy: 0.0947\n",
            "Epoch 14/20\n",
            "540/540 [==============================] - 16s 29ms/step - loss: 2.3027 - accuracy: 0.0991 - val_loss: 2.3027 - val_accuracy: 0.0947\n",
            "Epoch 15/20\n",
            "540/540 [==============================] - 16s 29ms/step - loss: 2.3027 - accuracy: 0.0999 - val_loss: 2.3028 - val_accuracy: 0.0945\n",
            "Epoch 16/20\n",
            "540/540 [==============================] - 16s 29ms/step - loss: 2.3027 - accuracy: 0.1004 - val_loss: 2.3028 - val_accuracy: 0.0978\n",
            "Epoch 17/20\n",
            "540/540 [==============================] - 16s 29ms/step - loss: 2.3027 - accuracy: 0.0993 - val_loss: 2.3028 - val_accuracy: 0.0977\n",
            "Epoch 18/20\n",
            "540/540 [==============================] - 16s 29ms/step - loss: 2.3027 - accuracy: 0.0995 - val_loss: 2.3028 - val_accuracy: 0.0977\n",
            "Epoch 19/20\n",
            "540/540 [==============================] - 16s 29ms/step - loss: 2.3027 - accuracy: 0.0979 - val_loss: 2.3028 - val_accuracy: 0.0945\n",
            "Epoch 20/20\n",
            "540/540 [==============================] - 16s 29ms/step - loss: 2.3027 - accuracy: 0.0994 - val_loss: 2.3028 - val_accuracy: 0.0945\n"
          ],
          "name": "stdout"
        },
        {
          "output_type": "execute_result",
          "data": {
            "text/plain": [
              "<tensorflow.python.keras.callbacks.History at 0x7f9e100f6550>"
            ]
          },
          "metadata": {
            "tags": []
          },
          "execution_count": 13
        }
      ]
    },
    {
      "cell_type": "markdown",
      "metadata": {
        "id": "RR6X2vUhzvbK"
      },
      "source": [
        "Trying to imporve the model: \n",
        "Total params: 2,035,786\n",
        "Trainable params: 298,634\n",
        "Non-trainable params: 1,737,152\n",
        "\n",
        "1.   First try resulted in a Test loss: 0.68 and Test accuracy: 0.87. I had a previous run which was slightly better but I added another batch normalization layer after the flatten layer because it looked like it was overfitting. I had the same number of ephocs (30) for both and it still look like it is overfitting slightly. \n",
        "2.  Test changing hyperparameters:\n",
        "  *   batch size: 10 chrashed - to little RAM\n",
        "  *   batch size: 20; results: pretty bad, Acc: 0.1 loss: 2.3\n",
        "  *   batch size: 30 and 40 : pretty much exactly the same loss: 0.58 acc: 0.8668\n",
        "\n",
        "3. Lets try a bunch of networks. The test results from the models below are not compareable one-to-one, as there are some differences in there hyperparameters (mostly batch size). However, we can make some assumptions about the performances when from the differences in network layers and transfered layers.\n",
        "\n",
        "In Model 1, I transfered only the first 4 layers. These filters should still be relativly *simple* and mostly consist of edge detectors. This should do well in our network as the MNIST Fashion consist of rather small images and non colour images.\n",
        "\n"
      ]
    },
    {
      "cell_type": "markdown",
      "metadata": {
        "id": "07MvIA9a8c6C"
      },
      "source": [
        "### Model 1\n",
        "input_1 (InputLayer)         [(None, 72, 72, 3)]       0         \n",
        "_________________________________________________________________\n",
        "block1_conv1 (Conv2D)        (None, 72, 72, 64)        1792      \n",
        "_________________________________________________________________\n",
        "block1_conv2 (Conv2D)        (None, 72, 72, 64)        36928     \n",
        "_________________________________________________________________\n",
        "block1_pool (MaxPooling2D)   (None, 36, 36, 64)        0         \n",
        "_________________________________________________________________\n",
        "batch_normalization (BatchNo (None, 36, 36, 64)        192       \n",
        "_________________________________________________________________\n",
        "conv2d (Conv2D)              (None, 36, 36, 128)       73856     \n",
        "_________________________________________________________________\n",
        "max_pooling2d (MaxPooling2D) (None, 18, 18, 128)       0         \n",
        "_________________________________________________________________\n",
        "conv2d_1 (Conv2D)            (None, 18, 18, 128)       147584    \n",
        "_________________________________________________________________\n",
        "max_pooling2d_1 (MaxPooling2 (None, 9, 9, 128)         0         \n",
        "_________________________________________________________________\n",
        "conv2d_2 (Conv2D)            (None, 9, 9, 64)          73792     \n",
        "_________________________________________________________________\n",
        "max_pooling2d_2 (MaxPooling2 (None, 4, 4, 64)          0         \n",
        "_________________________________________________________________\n",
        "conv2d_3 (Conv2D)            (None, 4, 4, 32)          18464     \n",
        "_________________________________________________________________\n",
        "max_pooling2d_3 (MaxPooling2 (None, 2, 2, 32)          0         \n",
        "_________________________________________________________________\n",
        "flatten (Flatten)            (None, 128)               0         \n",
        "_________________________________________________________________\n",
        "dense (Dense)                (None, 256)               33024     \n",
        "_________________________________________________________________\n",
        "dropout (Dropout)            (None, 256)               0         \n",
        "_________________________________________________________________\n",
        "dense_1 (Dense)              (None, 10)                2570      \n",
        "\n",
        "Total params: 388,202\n",
        "Trainable params: 349,354\n",
        "Non-trainable params: 38,848\n",
        "_________________________________________________________________\n",
        "\n",
        "Test loss: 0.32943540811538696\n",
        "Test accuracy: 0.8952999711036682"
      ]
    },
    {
      "cell_type": "markdown",
      "metadata": {
        "id": "5SA--Zt5AeL9"
      },
      "source": [
        "### Model 2\n",
        "input_1 (InputLayer)         [(None, 72, 72, 3)]       0         \n",
        "_________________________________________________________________\n",
        "block1_conv1 (Conv2D)        (None, 72, 72, 64)        1792      \n",
        "_________________________________________________________________\n",
        "block1_conv2 (Conv2D)        (None, 72, 72, 64)        36928     \n",
        "_________________________________________________________________\n",
        "block1_pool (MaxPooling2D)   (None, 36, 36, 64)        0         \n",
        "_________________________________________________________________\n",
        "block2_conv1 (Conv2D)        (None, 36, 36, 128)       73856     \n",
        "_________________________________________________________________\n",
        "block2_conv2 (Conv2D)        (None, 36, 36, 128)       147584    \n",
        "_________________________________________________________________\n",
        "block2_pool (MaxPooling2D)   (None, 18, 18, 128)       0         \n",
        "_________________________________________________________________\n",
        "batch_normalization (BatchNo (None, 18, 18, 128)       384       \n",
        "_________________________________________________________________\n",
        "conv2d (Conv2D)              (None, 18, 18, 128)       147584    \n",
        "_________________________________________________________________\n",
        "max_pooling2d (MaxPooling2D) (None, 9, 9, 128)         0         \n",
        "_________________________________________________________________\n",
        "conv2d_1 (Conv2D)            (None, 9, 9, 64)          73792     \n",
        "_________________________________________________________________\n",
        "max_pooling2d_1 (MaxPooling2 (None, 4, 4, 64)          0         \n",
        "_________________________________________________________________\n",
        "conv2d_2 (Conv2D)            (None, 4, 4, 32)          18464     \n",
        "_________________________________________________________________\n",
        "max_pooling2d_2 (MaxPooling2 (None, 2, 2, 32)          0         \n",
        "_________________________________________________________________\n",
        "conv2d_3 (Conv2D)            (None, 2, 2, 16)          4624      \n",
        "_________________________________________________________________\n",
        "max_pooling2d_3 (MaxPooling2 (None, 1, 1, 16)          0         \n",
        "_________________________________________________________________\n",
        "flatten (Flatten)            (None, 16)                0         \n",
        "_________________________________________________________________\n",
        "dense (Dense)                (None, 100)               1700      \n",
        "_________________________________________________________________\n",
        "dropout (Dropout)            (None, 100)               0         \n",
        "_________________________________________________________________\n",
        "dense_1 (Dense)              (None, 10)                1010  \n",
        "    \n",
        "Total params: 507,718\n",
        "Trainable params: 247,302\n",
        "Non-trainable params: 260,416\n",
        "_________________________________________________________________\n",
        "\n",
        "Test loss: 0.4069257974624634\n",
        "Test accuracy: 0.8859000205993652\n",
        "\n",
        "another 40 : epochs "
      ]
    },
    {
      "cell_type": "markdown",
      "metadata": {
        "id": "qolyv5cE_Z4r"
      },
      "source": [
        "### Model 3\n",
        "input_1 (InputLayer)         [(None, 72, 72, 3)]       0         \n",
        "_________________________________________________________________\n",
        "block1_conv1 (Conv2D)        (None, 72, 72, 64)        1792      \n",
        "_________________________________________________________________\n",
        "block1_conv2 (Conv2D)        (None, 72, 72, 64)        36928     \n",
        "_________________________________________________________________\n",
        "block1_pool (MaxPooling2D)   (None, 36, 36, 64)        0         \n",
        "_________________________________________________________________\n",
        "block2_conv1 (Conv2D)        (None, 36, 36, 128)       73856     \n",
        "_________________________________________________________________\n",
        "block2_conv2 (Conv2D)        (None, 36, 36, 128)       147584    \n",
        "_________________________________________________________________\n",
        "block2_pool (MaxPooling2D)   (None, 18, 18, 128)       0         \n",
        "_________________________________________________________________\n",
        "batch_normalization (BatchNo (None, 18, 18, 128)       384       \n",
        "_________________________________________________________________\n",
        "conv2d (Conv2D)              (None, 16, 16, 64)        73792     \n",
        "_________________________________________________________________\n",
        "max_pooling2d (MaxPooling2D) (None, 8, 8, 64)          0         \n",
        "_________________________________________________________________\n",
        "dropout (Dropout)            (None, 8, 8, 64)          0         \n",
        "_________________________________________________________________\n",
        "conv2d_1 (Conv2D)            (None, 6, 6, 128)         73856     \n",
        "_________________________________________________________________\n",
        "dropout_1 (Dropout)          (None, 6, 6, 128)         0         \n",
        "_________________________________________________________________\n",
        "flatten (Flatten)            (None, 4608)              0         \n",
        "_________________________________________________________________\n",
        "dense (Dense)                (None, 128)               589952    \n",
        "_________________________________________________________________\n",
        "dropout_2 (Dropout)          (None, 128)               0         \n",
        "_________________________________________________________________\n",
        "dense_1 (Dense)              (None, 10)                1290      \n",
        "\n",
        "Total params: 999,434\n",
        "Trainable params: 739,018\n",
        "Non-trainable params: 260,416\n",
        "_________________________________________________________________\n",
        "Test loss: 0.34300681948661804\n",
        "Test accuracy: 0.8819000124931335\n",
        "\n",
        "\n"
      ]
    },
    {
      "cell_type": "markdown",
      "metadata": {
        "id": "WMpba-EHD96w"
      },
      "source": [
        "### Model 4\n",
        "input_1 (InputLayer)         [(None, 72, 72, 3)]       0         \n",
        "_________________________________________________________________\n",
        "block1_conv1 (Conv2D)        (None, 72, 72, 64)        1792      \n",
        "_________________________________________________________________\n",
        "block1_conv2 (Conv2D)        (None, 72, 72, 64)        36928     \n",
        "_________________________________________________________________\n",
        "block1_pool (MaxPooling2D)   (None, 36, 36, 64)        0         \n",
        "_________________________________________________________________\n",
        "block2_conv1 (Conv2D)        (None, 36, 36, 128)       73856     \n",
        "_________________________________________________________________\n",
        "block2_conv2 (Conv2D)        (None, 36, 36, 128)       147584    \n",
        "_________________________________________________________________\n",
        "block2_pool (MaxPooling2D)   (None, 18, 18, 128)       0         \n",
        "_________________________________________________________________\n",
        "batch_normalization_1 (Batch (None, 18, 18, 128)       384       \n",
        "_________________________________________________________________\n",
        "conv2d_3 (Conv2D)            (None, 16, 16, 128)       147584    \n",
        "_________________________________________________________________\n",
        "max_pooling2d_3 (MaxPooling2 (None, 8, 8, 128)         0         \n",
        "_________________________________________________________________\n",
        "dropout_2 (Dropout)          (None, 8, 8, 128)         0         \n",
        "_________________________________________________________________\n",
        "conv2d_4 (Conv2D)            (None, 6, 6, 256)         295168    \n",
        "_________________________________________________________________\n",
        "max_pooling2d_4 (MaxPooling2 (None, 3, 3, 256)         0         \n",
        "_________________________________________________________________\n",
        "dropout_3 (Dropout)          (None, 3, 3, 256)         0         \n",
        "_________________________________________________________________\n",
        "conv2d_5 (Conv2D)            (None, 1, 1, 512)         1180160   \n",
        "_________________________________________________________________\n",
        "dropout_4 (Dropout)          (None, 1, 1, 512)         0         \n",
        "_________________________________________________________________\n",
        "flatten (Flatten)            (None, 512)               0         \n",
        "_________________________________________________________________\n",
        "dense (Dense)                (None, 512)               262656    \n",
        "_________________________________________________________________\n",
        "dropout_5 (Dropout)          (None, 512)               0         \n",
        "_________________________________________________________________\n",
        "dense_1 (Dense)              (None, 10)                5130      \n",
        "\n",
        "Total params: 2,151,242\n",
        "Trainable params: 1,890,826\n",
        "Non-trainable params: 260,416\n",
        "_________________________________________________________________\n",
        "\n",
        "Test loss: 0.3965311348438263\n",
        "Test accuracy: 0.8539999723434448\n",
        "\n",
        "changed batch_size=15 \n",
        "Test loss: 0.49344849586486816\n",
        "Test accuracy: 0.8592000007629395\n"
      ]
    },
    {
      "cell_type": "markdown",
      "metadata": {
        "id": "-5AHOGP7IpUn"
      },
      "source": [
        "### Model 5\n",
        "\n",
        "input_1 (InputLayer)         [(None, 72, 72, 3)]       0         \n",
        "_________________________________________________________________\n",
        "block1_conv1 (Conv2D)        (None, 72, 72, 64)        1792      \n",
        "_________________________________________________________________\n",
        "block1_conv2 (Conv2D)        (None, 72, 72, 64)        36928     \n",
        "_________________________________________________________________\n",
        "block1_pool (MaxPooling2D)   (None, 36, 36, 64)        0         \n",
        "_________________________________________________________________\n",
        "block2_conv1 (Conv2D)        (None, 36, 36, 128)       73856     \n",
        "_________________________________________________________________\n",
        "block2_conv2 (Conv2D)        (None, 36, 36, 128)       147584    \n",
        "_________________________________________________________________\n",
        "block2_pool (MaxPooling2D)   (None, 18, 18, 128)       0         \n",
        "_________________________________________________________________\n",
        "batch_normalization (BatchNo (None, 18, 18, 128)       384       \n",
        "_________________________________________________________________\n",
        "conv2d (Conv2D)              (None, 16, 16, 128)       147584    \n",
        "_________________________________________________________________\n",
        "max_pooling2d (MaxPooling2D) (None, 8, 8, 128)         0         \n",
        "_________________________________________________________________\n",
        "conv2d_1 (Conv2D)            (None, 6, 6, 256)         295168    \n",
        "_________________________________________________________________\n",
        "max_pooling2d_1 (MaxPooling2 (None, 3, 3, 256)         0         \n",
        "_________________________________________________________________\n",
        "conv2d_2 (Conv2D)            (None, 1, 1, 512)         1180160   \n",
        "_________________________________________________________________\n",
        "flatten (Flatten)            (None, 512)               0         \n",
        "_________________________________________________________________\n",
        "dense (Dense)                (None, 512)               262656    \n",
        "_________________________________________________________________\n",
        "dropout (Dropout)            (None, 512)               0         \n",
        "_________________________________________________________________\n",
        "dense_1 (Dense)              (None, 10)                5130      \n",
        "\n",
        "Total params: 2,151,242\n",
        "Trainable params: 1,890,826\n",
        "Non-trainable params: 260,416\n",
        "_________________________________________________________________\n",
        "\n",
        "Test loss: 0.4669555127620697\n",
        "Test accuracy: 0.8830000162124634\n"
      ]
    },
    {
      "cell_type": "markdown",
      "metadata": {
        "id": "4M0NIpsuTd6o"
      },
      "source": [
        "### Model 6\n",
        "\n",
        "input_1 (InputLayer)         [(None, 72, 72, 3)]       0         \n",
        "_________________________________________________________________\n",
        "block1_conv1 (Conv2D)        (None, 72, 72, 64)        1792      \n",
        "_________________________________________________________________\n",
        "block1_conv2 (Conv2D)        (None, 72, 72, 64)        36928     \n",
        "_________________________________________________________________\n",
        "block1_pool (MaxPooling2D)   (None, 36, 36, 64)        0         \n",
        "_________________________________________________________________\n",
        "block2_conv1 (Conv2D)        (None, 36, 36, 128)       73856     \n",
        "_________________________________________________________________\n",
        "block2_conv2 (Conv2D)        (None, 36, 36, 128)       147584    \n",
        "_________________________________________________________________\n",
        "block2_pool (MaxPooling2D)   (None, 18, 18, 128)       0         \n",
        "_________________________________________________________________\n",
        "batch_normalization (BatchNo (None, 18, 18, 128)       384       \n",
        "_________________________________________________________________\n",
        "conv2d (Conv2D)              (None, 16, 16, 128)       147584    \n",
        "_________________________________________________________________\n",
        "max_pooling2d (MaxPooling2D) (None, 8, 8, 128)         0         \n",
        "_________________________________________________________________\n",
        "conv2d_1 (Conv2D)            (None, 6, 6, 256)         295168    \n",
        "_________________________________________________________________\n",
        "max_pooling2d_1 (MaxPooling2 (None, 3, 3, 256)         0         \n",
        "_________________________________________________________________\n",
        "conv2d_2 (Conv2D)            (None, 1, 1, 512)         1180160   \n",
        "_________________________________________________________________\n",
        "flatten (Flatten)            (None, 512)               0         \n",
        "_________________________________________________________________\n",
        "dense (Dense)                (None, 200)               102600    \n",
        "_________________________________________________________________\n",
        "dense_1 (Dense)              (None, 10)                2010      \n",
        "\n",
        "\n",
        "Total params: 1,988,066\n",
        "Trainable params: 1,727,650\n",
        "Non-trainable params: 260,416\n",
        "_________________________________________________________________\n",
        "Test loss: 0.431942880153656\n",
        "Test accuracy: 0.8810999989509583\n"
      ]
    },
    {
      "cell_type": "markdown",
      "metadata": {
        "id": "EbWHHxa4ia5I"
      },
      "source": [
        "### Model 7\n",
        "\n",
        "input_1 (InputLayer)         [(None, 72, 72, 3)]       0         \n",
        "_________________________________________________________________\n",
        "block1_conv1 (Conv2D)        (None, 72, 72, 64)        1792      \n",
        "_________________________________________________________________\n",
        "block1_conv2 (Conv2D)        (None, 72, 72, 64)        36928     \n",
        "_________________________________________________________________\n",
        "block1_pool (MaxPooling2D)   (None, 36, 36, 64)        0         \n",
        "_________________________________________________________________\n",
        "block2_conv1 (Conv2D)        (None, 36, 36, 128)       73856     \n",
        "_________________________________________________________________\n",
        "block2_conv2 (Conv2D)        (None, 36, 36, 128)       147584    \n",
        "_________________________________________________________________\n",
        "block2_pool (MaxPooling2D)   (None, 18, 18, 128)       0         \n",
        "_________________________________________________________________\n",
        "block3_conv1 (Conv2D)        (None, 18, 18, 256)       295168    \n",
        "_________________________________________________________________\n",
        "block3_conv2 (Conv2D)        (None, 18, 18, 256)       590080    \n",
        "_________________________________________________________________\n",
        "block3_conv3 (Conv2D)        (None, 18, 18, 256)       590080    \n",
        "_________________________________________________________________\n",
        "block3_pool (MaxPooling2D)   (None, 9, 9, 256)         0         \n",
        "_________________________________________________________________\n",
        "batch_normalization (BatchNo (None, 9, 9, 256)         768       \n",
        "_________________________________________________________________\n",
        "conv2d (Conv2D)              (None, 7, 7, 256)         590080    \n",
        "_________________________________________________________________\n",
        "conv2d_1 (Conv2D)            (None, 5, 5, 256)         590080    \n",
        "_________________________________________________________________\n",
        "max_pooling2d (MaxPooling2D) (None, 2, 2, 256)         0         \n",
        "_________________________________________________________________\n",
        "flatten (Flatten)            (None, 1024)              0         \n",
        "_________________________________________________________________\n",
        "dense (Dense)                (None, 512)               524800    \n",
        "_________________________________________________________________\n",
        "dropout (Dropout)            (None, 512)               0         \n",
        "_________________________________________________________________\n",
        "dense_1 (Dense)              (None, 10)                5130      \n",
        "\n",
        "Total params: 3,446,346\n",
        "Trainable params: 1,710,346\n",
        "Non-trainable params: 1,736,000\n",
        "_________________________________________________________________\n",
        "Test loss: 0.5607700347900391\n",
        "Test accuracy: 0.8615000247955322\n"
      ]
    }
  ]
}