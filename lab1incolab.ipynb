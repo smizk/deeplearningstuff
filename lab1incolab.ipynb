{
  "nbformat": 4,
  "nbformat_minor": 0,
  "metadata": {
    "colab": {
      "name": "Copy of lab1incolab.ipynb",
      "provenance": [],
      "authorship_tag": "ABX9TyPaE06IS3QbBnJ+00cPW+rG",
      "include_colab_link": true
    },
    "kernelspec": {
      "name": "python3",
      "display_name": "Python 3"
    },
    "language_info": {
      "name": "python"
    }
  },
  "cells": [
    {
      "cell_type": "markdown",
      "metadata": {
        "id": "view-in-github",
        "colab_type": "text"
      },
      "source": [
        "<a href=\"https://colab.research.google.com/github/smizk/deeplearningstuff/blob/lab1/lab1incolab.ipynb\" target=\"_parent\"><img src=\"https://colab.research.google.com/assets/colab-badge.svg\" alt=\"Open In Colab\"/></a>"
      ]
    },
    {
      "cell_type": "code",
      "metadata": {
        "id": "azQP_hM8xfUY"
      },
      "source": [
        "import tensorflow\n",
        "import numpy as np"
      ],
      "execution_count": null,
      "outputs": []
    },
    {
      "cell_type": "markdown",
      "metadata": {
        "id": "gjncmrGwxhll"
      },
      "source": [
        "NU TESTAR **VI**"
      ]
    },
    {
      "cell_type": "code",
      "metadata": {
        "id": "II8Zu7e_xsCD"
      },
      "source": [
        "p = np.zeros(11)\n"
      ],
      "execution_count": null,
      "outputs": []
    },
    {
      "cell_type": "code",
      "metadata": {
        "id": "9xYPM2awx0Wg"
      },
      "source": [
        ""
      ],
      "execution_count": null,
      "outputs": []
    }
  ]
}